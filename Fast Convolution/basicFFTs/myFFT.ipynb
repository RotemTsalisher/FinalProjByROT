{
  "nbformat": 4,
  "nbformat_minor": 0,
  "metadata": {
    "colab": {
      "provenance": []
    },
    "kernelspec": {
      "name": "python3",
      "display_name": "Python 3"
    },
    "language_info": {
      "name": "python"
    }
  },
  "cells": [
    {
      "cell_type": "code",
      "execution_count": 26,
      "metadata": {
        "id": "olr_TtMD8s9j"
      },
      "outputs": [],
      "source": [
        "import numpy as np\n",
        "from matplotlib import pyplot as plt"
      ]
    },
    {
      "cell_type": "code",
      "source": [
        "aprox_cos = np.array([\n",
        "    1.0, 0.923879533, 0.707106781, 0.382683432, 0, -0.382683432, -0.707106781, -0.923879533,\n",
        "    -1.0, -0.923879533, -0.707106781, -0.382683432, 0, 0.382683432, 0.707106781, 0.923879533\n",
        "\n",
        "])\n",
        "aprox_sin = np.array([\n",
        "    0.0, 0.382683432, 0.707106781, 0.923879533, 1.0, 0.923879533, 0.707106781, 0.382683432, 0,\n",
        "    -0.382683432, -0.707106781, -0.923879533, -1.0, -0.923879533, -0.707106781, -0.382683432\n",
        "\n",
        "])"
      ],
      "metadata": {
        "id": "xpeNZ8uL80ia"
      },
      "execution_count": 70,
      "outputs": []
    },
    {
      "cell_type": "code",
      "source": [
        "class Complex:\n",
        "    def __init__(self, re, imag):\n",
        "        self.r = re\n",
        "        self.i = imag\n",
        "\n",
        "    def complexMult(self,num):\n",
        "        return Complex((self.r*num.r - self.i*num.i), (self.r*num.i + self.i*num.r))\n",
        "\n",
        "    def complexAdd(self,num):\n",
        "      return Complex(self.r + num.r, self.i + num.i);\n",
        "\n",
        "    def printSig(self):\n",
        "      if self.i < 0:\n",
        "        print(self.r, \" - j\", -self.i)\n",
        "        return\n",
        "\n",
        "      print(self.r, \" + j\", self.i)\n"
      ],
      "metadata": {
        "id": "dvKq96MC9OVo"
      },
      "execution_count": 99,
      "outputs": []
    },
    {
      "cell_type": "code",
      "source": [
        "def myFFT(sig,twiddleArr,N=0):\n",
        "  M = len(sig);\n",
        "  if N == 0 or N > M:\n",
        "    N = M\n",
        "  X = [];\n",
        "  for k in range(N):\n",
        "    tmp = Complex(0,0)\n",
        "    for n in range(N):\n",
        "      tmp = tmp.complexAdd(sig[n].complexMult(twiddleArr[(n*k)%N]));\n",
        "    X.append(tmp)\n",
        "\n",
        "  return np.array(X);\n",
        "\n",
        ""
      ],
      "metadata": {
        "id": "_7PdgxZnI8k8"
      },
      "execution_count": 100,
      "outputs": []
    },
    {
      "cell_type": "code",
      "source": [
        "x = np.array([Complex(1,0),Complex(-1,0),Complex(3,0),Complex(0,0),Complex(1,0),Complex(1,0),Complex(1,0),Complex(1,0)]);\n",
        "N = 8;\n",
        "w0 = int(np.floor(16/N))\n",
        "\n",
        "twiddleArr = np.array([Complex(aprox_cos[w0*k],-aprox_sin[w0*k]) for k in range(N)]);\n",
        "X = myFFT(x,twiddleArr,N);\n",
        "for ele in X:\n",
        "  ele.printSig();"
      ],
      "metadata": {
        "colab": {
          "base_uri": "https://localhost:8080/"
        },
        "id": "K3KAlmpHBO6g",
        "outputId": "09d2db1b-2aa4-4336-c65d-f9c8ae8e07fc"
      },
      "execution_count": 105,
      "outputs": [
        {
          "output_type": "stream",
          "name": "stdout",
          "text": [
            "7.0  + j 0.0\n",
            "-0.707106781  + j 0.12132034300000027\n",
            "-2.0  + j 1.0\n",
            "0.707106781  + j 4.121320343000001\n",
            "5.0  + j 0.0\n",
            "0.707106781  - j 4.121320343000001\n",
            "-2.0  - j 1.0\n",
            "-0.707106781  - j 0.12132034300000027\n"
          ]
        }
      ]
    }
  ]
}