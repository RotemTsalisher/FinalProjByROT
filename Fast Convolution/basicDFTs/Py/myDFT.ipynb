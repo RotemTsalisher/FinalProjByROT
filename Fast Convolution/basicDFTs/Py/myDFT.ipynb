{
  "nbformat": 4,
  "nbformat_minor": 0,
  "metadata": {
    "colab": {
      "provenance": []
    },
    "kernelspec": {
      "name": "python3",
      "display_name": "Python 3"
    },
    "language_info": {
      "name": "python"
    }
  },
  "cells": [
    {
      "cell_type": "code",
      "execution_count": 90,
      "metadata": {
        "id": "olr_TtMD8s9j"
      },
      "outputs": [],
      "source": [
        "import numpy as np\n",
        "from matplotlib import pyplot as plt"
      ]
    },
    {
      "cell_type": "code",
      "source": [
        "aprox_cos = np.array([\n",
        "    1.0, 0.923879533, 0.707106781, 0.382683432, 0, -0.382683432, -0.707106781, -0.923879533,\n",
        "    -1.0, -0.923879533, -0.707106781, -0.382683432, 0, 0.382683432, 0.707106781, 0.923879533\n",
        "\n",
        "])\n",
        "aprox_sin = np.array([\n",
        "    0.0, 0.382683432, 0.707106781, 0.923879533, 1.0, 0.923879533, 0.707106781, 0.382683432, 0,\n",
        "    -0.382683432, -0.707106781, -0.923879533, -1.0, -0.923879533, -0.707106781, -0.382683432\n",
        "\n",
        "])"
      ],
      "metadata": {
        "id": "xpeNZ8uL80ia"
      },
      "execution_count": 91,
      "outputs": []
    },
    {
      "cell_type": "code",
      "source": [
        "class Complex:\n",
        "    def __init__(self, re, imag):\n",
        "        self.r = re\n",
        "        self.i = imag\n",
        "\n",
        "    def complexMult(self,num):\n",
        "        return Complex((self.r*num.r - self.i*num.i), (self.r*num.i + self.i*num.r))\n",
        "\n",
        "    def complexAdd(self,num):\n",
        "      return Complex(self.r + num.r, self.i + num.i);\n",
        "\n",
        "    def printSig(self):\n",
        "      if self.i < 0:\n",
        "        print(self.r, \" - j\", -self.i)\n",
        "        return\n",
        "      print(self.r, \" + j\", self.i)\n",
        "\n",
        "    def swapRealImag(self):\n",
        "      tmp = self.r\n",
        "      self.r = self.i\n",
        "      self.i = tmp\n",
        "      return\n",
        "\n",
        "    def __mul__(self, other):\n",
        "      if isinstance(other, float):\n",
        "          self.r *= other\n",
        "          self.i *= other\n",
        "          return self\n",
        "      elif isinstance(other, Complex):\n",
        "          return Complex(self.r * other.r - self.i * other.i, self.r * other.i + self.i * other.r)\n",
        "      else:\n",
        "          raise TypeError(\"Unsupported operand type for *: Complex and {}\".format(type(other)))\n",
        "\n",
        "    def __rmul__(self, other):\n",
        "      if isinstance(other, float):\n",
        "          self.r *= other\n",
        "          self.i *= other\n",
        "          return self\n",
        "      else:\n",
        "          raise TypeError(\"Unsupported operand type for *: {} and Complex\".format(type(other)))\n",
        "\n"
      ],
      "metadata": {
        "id": "dvKq96MC9OVo"
      },
      "execution_count": 92,
      "outputs": []
    },
    {
      "cell_type": "code",
      "source": [
        "def myFFT(sig,twiddleArr,N=0):\n",
        "  M = len(sig);\n",
        "  if N == 0 or N > M:\n",
        "    N = M\n",
        "  X = [];\n",
        "  for k in range(N):\n",
        "    tmp = Complex(0,0)\n",
        "    for n in range(N):\n",
        "      tmp = tmp.complexAdd(sig[n].complexMult(twiddleArr[(n*k)%N]));\n",
        "    X.append(tmp)\n",
        "\n",
        "  return np.array(X);"
      ],
      "metadata": {
        "id": "_7PdgxZnI8k8"
      },
      "execution_count": 93,
      "outputs": []
    },
    {
      "cell_type": "code",
      "source": [
        "def forward_dft(x,N):\n",
        "  w0 = int(np.floor(16/N))\n",
        "  twiddleArr = np.array([Complex(aprox_cos[w0*k],-aprox_sin[w0*k]) for k in range(N)]);\n",
        "  X = myFFT(x,twiddleArr,N);\n",
        "  return X"
      ],
      "metadata": {
        "id": "K3KAlmpHBO6g"
      },
      "execution_count": 94,
      "outputs": []
    },
    {
      "cell_type": "code",
      "source": [
        "def printCmplxArr(arr):\n",
        "  for ele in arr:\n",
        "    ele.printSig()\n",
        "\n",
        "  return;"
      ],
      "metadata": {
        "id": "WgwPOWMZgjnr"
      },
      "execution_count": 95,
      "outputs": []
    },
    {
      "cell_type": "code",
      "source": [
        "def idft_using_dft(x,N):\n",
        "  for ele in x:\n",
        "    ele.swapRealImag()\n",
        "\n",
        "  x = (1/N)*forward_dft(x,N)\n",
        "\n",
        "  for ele in x:\n",
        "    ele.swapRealImag()\n",
        "\n",
        "  return x"
      ],
      "metadata": {
        "id": "mbAJmjHulFTk"
      },
      "execution_count": 96,
      "outputs": []
    },
    {
      "cell_type": "code",
      "source": [
        "def main():\n",
        "  x = np.array([Complex(1,0),Complex(1,0),Complex(1,0),Complex(0,0)]);\n",
        "  N = 4;\n",
        "  print(\"Original sig: \");\n",
        "  printCmplxArr(x);\n",
        "  print(\"Forward FFT:\");\n",
        "  X = forward_dft(x,N);\n",
        "  printCmplxArr(X);\n",
        "\n",
        "  x_ = idft_using_dft(X,N);\n",
        "  print(\"After iDFT:\");\n",
        "  printCmplxArr(x_);\n",
        "  return"
      ],
      "metadata": {
        "id": "jaeFstZ3fWIp"
      },
      "execution_count": 98,
      "outputs": []
    },
    {
      "cell_type": "code",
      "source": [
        "main()"
      ],
      "metadata": {
        "colab": {
          "base_uri": "https://localhost:8080/"
        },
        "id": "XB5RCAf4f_8N",
        "outputId": "69cc8ad3-a405-4b30-e7fe-44641563f614"
      },
      "execution_count": 99,
      "outputs": [
        {
          "output_type": "stream",
          "name": "stdout",
          "text": [
            "Original sig: \n",
            "1  + j 0\n",
            "1  + j 0\n",
            "1  + j 0\n",
            "0  + j 0\n",
            "Forward FFT:\n",
            "3.0  + j 0.0\n",
            "0.0  - j 1.0\n",
            "1.0  + j 0.0\n",
            "0.0  + j 1.0\n",
            "After iDFT:\n",
            "1.0  + j 0.0\n",
            "1.0  + j 0.0\n",
            "1.0  + j 0.0\n",
            "0.0  + j 0.0\n"
          ]
        }
      ]
    }
  ]
}